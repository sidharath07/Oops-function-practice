{
 "cells": [
  {
   "cell_type": "code",
   "execution_count": 57,
   "id": "9d245c37-a50c-49bf-8d92-c5c24c3cdd64",
   "metadata": {},
   "outputs": [],
   "source": [
    "# Oops  :- object orianted programing system "
   ]
  },
  {
   "cell_type": "code",
   "execution_count": 2,
   "id": "2786a3f7-bc9f-429b-863c-294bde2bdbd3",
   "metadata": {},
   "outputs": [],
   "source": [
    "a = 121324"
   ]
  },
  {
   "cell_type": "code",
   "execution_count": 8,
   "id": "5e129375-2fa5-4543-a37e-d8ea57abd03f",
   "metadata": {},
   "outputs": [],
   "source": [
    "s = \"sidharth singh \""
   ]
  },
  {
   "cell_type": "code",
   "execution_count": 9,
   "id": "8406448e-2e4e-4654-8176-b35fd6d155ce",
   "metadata": {},
   "outputs": [
    {
     "data": {
      "text/plain": [
       "'sidharth singh '"
      ]
     },
     "execution_count": 9,
     "metadata": {},
     "output_type": "execute_result"
    }
   ],
   "source": [
    "s"
   ]
  },
  {
   "cell_type": "code",
   "execution_count": 12,
   "id": "eab5f1d1-6c31-4f3e-bc45-c5d6f8cf8405",
   "metadata": {},
   "outputs": [
    {
     "name": "stdout",
     "output_type": "stream",
     "text": [
      "<class 'str'>\n"
     ]
    }
   ],
   "source": [
    "print(type(s))"
   ]
  },
  {
   "cell_type": "code",
   "execution_count": 1,
   "id": "2bf96a33-050a-4b3c-86b5-061ed513a334",
   "metadata": {},
   "outputs": [],
   "source": [
    "class test():\n",
    "    \n",
    "    def wel_msg(self):\n",
    "        print(\"welcome to our python class\")"
   ]
  },
  {
   "cell_type": "code",
   "execution_count": 2,
   "id": "c7c17b96-3305-49de-bbbe-ea3f044e1b4f",
   "metadata": {},
   "outputs": [],
   "source": [
    "student = test()"
   ]
  },
  {
   "cell_type": "code",
   "execution_count": 3,
   "id": "1d359b50-c6c2-47ed-8704-4fe3fd615f1d",
   "metadata": {},
   "outputs": [
    {
     "name": "stdout",
     "output_type": "stream",
     "text": [
      "welcome to our python class\n"
     ]
    }
   ],
   "source": [
    "student.wel_msg()"
   ]
  },
  {
   "cell_type": "code",
   "execution_count": 4,
   "id": "b97efda0-8d82-44c9-be43-61e93191dab3",
   "metadata": {},
   "outputs": [],
   "source": [
    "class child():\n",
    "    \n",
    "    def school_name(self):\n",
    "        print(\"st bond publice school\")"
   ]
  },
  {
   "cell_type": "code",
   "execution_count": 5,
   "id": "16ad6e70-d5d4-4282-aafc-d81ed9d72125",
   "metadata": {},
   "outputs": [],
   "source": [
    "school = child()"
   ]
  },
  {
   "cell_type": "code",
   "execution_count": 6,
   "id": "14dc3631-3a4a-4e5e-b17b-f0c7c5f4f1a4",
   "metadata": {},
   "outputs": [
    {
     "name": "stdout",
     "output_type": "stream",
     "text": [
      "st bond publice school\n"
     ]
    }
   ],
   "source": [
    "school.school_name()"
   ]
  },
  {
   "cell_type": "code",
   "execution_count": 13,
   "id": "377634fc-561f-4656-91a9-71ef03828d56",
   "metadata": {},
   "outputs": [],
   "source": [
    "class shop():\n",
    "    \n",
    "    def sports_shop(self):\n",
    "        print(\"ms dhoni sports shops\")"
   ]
  },
  {
   "cell_type": "code",
   "execution_count": 14,
   "id": "93f70238-52a6-429b-a491-33b9b0aa6445",
   "metadata": {},
   "outputs": [],
   "source": [
    "c = shop()"
   ]
  },
  {
   "cell_type": "code",
   "execution_count": 15,
   "id": "598b78cd-656e-45a9-a334-fe57ca4c2d8f",
   "metadata": {},
   "outputs": [
    {
     "name": "stdout",
     "output_type": "stream",
     "text": [
      "ms dhoni sports shops\n"
     ]
    }
   ],
   "source": [
    "c.sports_shop()"
   ]
  },
  {
   "cell_type": "code",
   "execution_count": 46,
   "id": "8dfd63e3-dc8e-4dbb-8e0f-618a08232942",
   "metadata": {},
   "outputs": [],
   "source": [
    "class shop():\n",
    "    \n",
    "    def __init__(self, shop_name , address , mob_no):\n",
    "        self.shop_name = shop_name\n",
    "        self.address = address\n",
    "        self.mob_no = mob_no\n",
    "        \n",
    "    def return_all_detials(self):\n",
    "        return self.shop_name , self.address , self.mob_no"
   ]
  },
  {
   "cell_type": "code",
   "execution_count": 47,
   "id": "72c839be-3472-4fc6-a076-59a24dada686",
   "metadata": {},
   "outputs": [],
   "source": [
    "custumar = shop(\"ms dhoni sports shop\" , \"rachi\" , 9155550806)"
   ]
  },
  {
   "cell_type": "code",
   "execution_count": 48,
   "id": "d975cefb-3061-4f96-a89f-9d9bbd9f7256",
   "metadata": {},
   "outputs": [
    {
     "data": {
      "text/plain": [
       "('ms dhoni sports shop', 'rachi', 9155550806)"
      ]
     },
     "execution_count": 48,
     "metadata": {},
     "output_type": "execute_result"
    }
   ],
   "source": [
    "custumar.return_all_detials()"
   ]
  },
  {
   "cell_type": "code",
   "execution_count": 49,
   "id": "47f34451-05d8-496c-ab57-cd9c68cba5b3",
   "metadata": {},
   "outputs": [
    {
     "data": {
      "text/plain": [
       "'rachi'"
      ]
     },
     "execution_count": 49,
     "metadata": {},
     "output_type": "execute_result"
    }
   ],
   "source": [
    "custumar.address"
   ]
  },
  {
   "cell_type": "code",
   "execution_count": 50,
   "id": "6c2e5893-4a6a-4834-89e6-ae20f60304e9",
   "metadata": {},
   "outputs": [
    {
     "data": {
      "text/plain": [
       "9155550806"
      ]
     },
     "execution_count": 50,
     "metadata": {},
     "output_type": "execute_result"
    }
   ],
   "source": [
    "custumar.mob_no"
   ]
  },
  {
   "cell_type": "code",
   "execution_count": 51,
   "id": "0c2a256c-6a1a-40a9-af7e-9e1006771834",
   "metadata": {},
   "outputs": [
    {
     "data": {
      "text/plain": [
       "'ms dhoni sports shop'"
      ]
     },
     "execution_count": 51,
     "metadata": {},
     "output_type": "execute_result"
    }
   ],
   "source": [
    "custumar.shop_name"
   ]
  },
  {
   "cell_type": "code",
   "execution_count": null,
   "id": "191894a9-7f33-41ba-a51b-0411ee3d56d1",
   "metadata": {},
   "outputs": [],
   "source": []
  },
  {
   "cell_type": "code",
   "execution_count": 53,
   "id": "b88e8f6a-d7d4-4447-a1b9-504c8e7b538d",
   "metadata": {},
   "outputs": [],
   "source": [
    "class dance_class():\n",
    "    \n",
    "    def __init__(self, student_name , age , qulifiction):\n",
    "        self.student_name = student_name\n",
    "        self.age = age\n",
    "        self.qulifiction = qulifiction\n",
    "        \n",
    "    def return_all_detials(self):\n",
    "        return self.student_name , self.age  , self.qulifiction"
   ]
  },
  {
   "cell_type": "code",
   "execution_count": 54,
   "id": "d21b00f0-bac3-402e-a2a3-6224f5b96104",
   "metadata": {},
   "outputs": [],
   "source": [
    "dance = dance_class( \"sidharth singh\" , 20  , \"b.com\")"
   ]
  },
  {
   "cell_type": "code",
   "execution_count": 55,
   "id": "b7aaaf53-4121-407e-81c2-0cd2eef5d4d0",
   "metadata": {},
   "outputs": [
    {
     "data": {
      "text/plain": [
       "('sidharth singh', 20, 'b.com')"
      ]
     },
     "execution_count": 55,
     "metadata": {},
     "output_type": "execute_result"
    }
   ],
   "source": [
    "dance.return_all_detials()"
   ]
  },
  {
   "cell_type": "code",
   "execution_count": 56,
   "id": "d106f0b3-717f-4dd2-a2a0-17e958535c9c",
   "metadata": {},
   "outputs": [
    {
     "data": {
      "text/plain": [
       "20"
      ]
     },
     "execution_count": 56,
     "metadata": {},
     "output_type": "execute_result"
    }
   ],
   "source": [
    "dance.age"
   ]
  },
  {
   "cell_type": "code",
   "execution_count": 40,
   "id": "70466695-6a48-4567-88bf-df6094012e27",
   "metadata": {},
   "outputs": [
    {
     "data": {
      "text/plain": [
       "'b.com'"
      ]
     },
     "execution_count": 40,
     "metadata": {},
     "output_type": "execute_result"
    }
   ],
   "source": [
    "dance.qulifiction"
   ]
  },
  {
   "cell_type": "code",
   "execution_count": 41,
   "id": "98bff2a7-a1c1-427c-97e1-33e6e08cf257",
   "metadata": {},
   "outputs": [
    {
     "data": {
      "text/plain": [
       "'sidharth singh'"
      ]
     },
     "execution_count": 41,
     "metadata": {},
     "output_type": "execute_result"
    }
   ],
   "source": [
    "dance.student_name"
   ]
  },
  {
   "cell_type": "code",
   "execution_count": 58,
   "id": "32314b71-5ba5-4f35-b449-5b9f365b966a",
   "metadata": {},
   "outputs": [],
   "source": [
    "class pwskills():\n",
    "    \n",
    "    def  __init__(self, name , mob_no , gmail_id , student_id ):\n",
    "        self.name = name\n",
    "        self.mob_no = mob_no\n",
    "        self.gmail_id = gmail_id\n",
    "        self.student_id = student_id\n",
    "        \n",
    "    def return_all_details(self):\n",
    "        return self.name , self.mob_no , self.gmail_id , self.student_id"
   ]
  },
  {
   "cell_type": "code",
   "execution_count": 60,
   "id": "c81ba3cf-441d-4ecd-9de4-fe9a3524bbec",
   "metadata": {},
   "outputs": [],
   "source": [
    "coching = pwskills( \"sidhath singh\" , 9155508097 , \"sidharthkushwaha@gmail.com\" , 501)"
   ]
  },
  {
   "cell_type": "code",
   "execution_count": 61,
   "id": "50211908-2a62-449f-be75-765e396f6419",
   "metadata": {},
   "outputs": [
    {
     "data": {
      "text/plain": [
       "('sidhath singh', 9155508097, 'sidharthkushwaha@gmail.com', 501)"
      ]
     },
     "execution_count": 61,
     "metadata": {},
     "output_type": "execute_result"
    }
   ],
   "source": [
    "coching.return_all_details()"
   ]
  },
  {
   "cell_type": "code",
   "execution_count": 62,
   "id": "cd1f0569-5766-46e0-a1e3-fb3d99c2f848",
   "metadata": {},
   "outputs": [
    {
     "data": {
      "text/plain": [
       "'sidhath singh'"
      ]
     },
     "execution_count": 62,
     "metadata": {},
     "output_type": "execute_result"
    }
   ],
   "source": [
    "coching.name"
   ]
  },
  {
   "cell_type": "code",
   "execution_count": 63,
   "id": "824ad748-7672-46a9-ad85-ac6e530ebf40",
   "metadata": {},
   "outputs": [
    {
     "data": {
      "text/plain": [
       "9155508097"
      ]
     },
     "execution_count": 63,
     "metadata": {},
     "output_type": "execute_result"
    }
   ],
   "source": [
    "coching.mob_no"
   ]
  },
  {
   "cell_type": "code",
   "execution_count": null,
   "id": "88829133-63c1-4808-b3f9-ce1d1388a48a",
   "metadata": {},
   "outputs": [],
   "source": []
  }
 ],
 "metadata": {
  "kernelspec": {
   "display_name": "Python 3 (ipykernel)",
   "language": "python",
   "name": "python3"
  },
  "language_info": {
   "codemirror_mode": {
    "name": "ipython",
    "version": 3
   },
   "file_extension": ".py",
   "mimetype": "text/x-python",
   "name": "python",
   "nbconvert_exporter": "python",
   "pygments_lexer": "ipython3",
   "version": "3.10.8"
  }
 },
 "nbformat": 4,
 "nbformat_minor": 5
}
